{
 "cells": [
  {
   "cell_type": "code",
   "execution_count": 4,
   "metadata": {},
   "outputs": [
    {
     "data": {
      "text/plain": [
       "PosixPath('/root/datasets/semantic-seg/kuangka2/kitti_format')"
      ]
     },
     "execution_count": 4,
     "metadata": {},
     "output_type": "execute_result"
    }
   ],
   "source": [
    "from pathlib import Path\n",
    "import numpy as np\n",
    "\n",
    "lidarlist_path = Path(\"/root/datasets/semantic-seg/kuangka2/kitti_format\")\n",
    "lidarlist_path"
   ]
  },
  {
   "cell_type": "code",
   "execution_count": 5,
   "metadata": {},
   "outputs": [
    {
     "data": {
      "text/plain": [
       "6"
      ]
     },
     "execution_count": 5,
     "metadata": {},
     "output_type": "execute_result"
    }
   ],
   "source": [
    "import os\n",
    "\n",
    "file_list = os.listdir(lidarlist_path)\n",
    "len(file_list)"
   ]
  },
  {
   "cell_type": "code",
   "execution_count": 6,
   "metadata": {},
   "outputs": [],
   "source": [
    "def read_ascii_pcd(file_path):\n",
    "    with open(file_path, 'r') as f:\n",
    "        lines = f.readlines()\n",
    "    \n",
    "    points = []\n",
    "    header = True\n",
    "    for line in lines:\n",
    "        if header:\n",
    "            if line.startswith(\"DATA\"):\n",
    "                header = False\n",
    "        else:\n",
    "            points.append([float(value) for value in line.strip().split()])\n",
    "\n",
    "    return np.array(points)"
   ]
  },
  {
   "cell_type": "code",
   "execution_count": 8,
   "metadata": {},
   "outputs": [],
   "source": [
    "for f in file_list:\n",
    "    file_path = lidarlist_path / f\n",
    "    # try:\n",
    "    pcd = read_ascii_pcd(file_path)\n",
    "    # except ValueError:\n",
    "    #     print(f\"Skipping {file_path}\")\n",
    "    #     continue\n",
    "\n",
    "    xyz = np.array(pcd[:, :3], dtype=np.float32)\n",
    "    label = np.array(pcd[:, 3], dtype=np.uint32).reshape(-1, 1)\n",
    "    \n",
    "    xyz.tofile((str(file_path))[:-3] + 'bin') \n",
    "    label.tofile((str(file_path))[:-3] + 'label')\n",
    "\n",
    "    # a = np.fromfile((str(file_path))[:-3] + 'bin', dtype=np.float32).reshape(-1, 3)\n",
    "    # b = np.fromfile((str(file_path))[:-3] + 'label', dtype=np.uint32).reshape(-1, 1)\n",
    "\n",
    "\n",
    "# pcd.shape, pcd[0], xyz.shape, a.shape, label.shape, b.shape, xyz[0], a[0], label[0], b[0]"
   ]
  }
 ],
 "metadata": {
  "kernelspec": {
   "display_name": "yang-iS",
   "language": "python",
   "name": "python3"
  },
  "language_info": {
   "codemirror_mode": {
    "name": "ipython",
    "version": 3
   },
   "file_extension": ".py",
   "mimetype": "text/x-python",
   "name": "python",
   "nbconvert_exporter": "python",
   "pygments_lexer": "ipython3",
   "version": "3.7.12"
  }
 },
 "nbformat": 4,
 "nbformat_minor": 2
}
